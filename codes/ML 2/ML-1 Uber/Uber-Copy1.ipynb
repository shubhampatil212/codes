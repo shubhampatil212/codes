{
 "cells": [
  {
   "cell_type": "code",
   "execution_count": 1,
   "id": "c6f89065",
   "metadata": {},
   "outputs": [],
   "source": [
    "import pandas as pd\n",
    "import matplotlib.pyplot as plt\n",
    "import seaborn as sns\n",
    "import datetime as dt"
   ]
  },
  {
   "cell_type": "code",
   "execution_count": null,
   "id": "b37d087b",
   "metadata": {},
   "outputs": [],
   "source": [
    "df = pd.read_csv(\"uber.csv\")\n",
    "df.head()"
   ]
  },
  {
   "cell_type": "code",
   "execution_count": 3,
   "id": "11c1480d",
   "metadata": {},
   "outputs": [],
   "source": [
    "df.drop(columns=['Unnamed: 0','key'],inplace=True)"
   ]
  },
  {
   "cell_type": "code",
   "execution_count": null,
   "id": "289cb0e0",
   "metadata": {},
   "outputs": [],
   "source": [
    "df.info()"
   ]
  },
  {
   "cell_type": "markdown",
   "id": "b86fd108",
   "metadata": {},
   "source": [
    "#### Dropping null rows"
   ]
  },
  {
   "cell_type": "code",
   "execution_count": 5,
   "id": "a26c8d83",
   "metadata": {},
   "outputs": [],
   "source": [
    "df.dropna(how='any',inplace=True)"
   ]
  },
  {
   "cell_type": "code",
   "execution_count": null,
   "id": "854a5703",
   "metadata": {},
   "outputs": [],
   "source": [
    "df.isnull().sum()"
   ]
  },
  {
   "cell_type": "markdown",
   "id": "7c83c7f1",
   "metadata": {},
   "source": [
    "### Boxplots"
   ]
  },
  {
   "cell_type": "code",
   "execution_count": null,
   "id": "61122c7d",
   "metadata": {},
   "outputs": [],
   "source": [
    "for col in df.select_dtypes(exclude=['object']):\n",
    "    plt.figure()\n",
    "    sns.boxplot(data=df,x=col)"
   ]
  },
  {
   "cell_type": "markdown",
   "id": "8d05f2b2",
   "metadata": {},
   "source": [
    "### Dropping outliers"
   ]
  },
  {
   "cell_type": "markdown",
   "id": "db171ff7",
   "metadata": {},
   "source": [
    "#### -90 < latitude < 90</br>-180 < longitude < 180 </br>fare > 0</br>0 < passenger_count < 50"
   ]
  },
  {
   "cell_type": "code",
   "execution_count": 8,
   "id": "c6e07558",
   "metadata": {},
   "outputs": [],
   "source": [
    "df = df[\n",
    "    (df.pickup_latitude > -90) & (df.pickup_latitude < 90) &\n",
    "    (df.dropoff_latitude > -90) & (df.dropoff_latitude < 90) &\n",
    "    (df.pickup_longitude > -180) & (df.pickup_longitude < 180) &\n",
    "    (df.dropoff_longitude > -180) & (df.dropoff_longitude < 180) & \n",
    "    (df.fare_amount > 0) & (df.passenger_count > 0)  & (df.passenger_count < 50)\n",
    "]"
   ]
  },
  {
   "cell_type": "markdown",
   "id": "7fc3fae5",
   "metadata": {},
   "source": [
    "### Calculating Distance"
   ]
  },
  {
   "cell_type": "code",
   "execution_count": 9,
   "id": "317a4c11",
   "metadata": {},
   "outputs": [],
   "source": [
    "from math import cos, asin, sqrt, pi\n",
    "import numpy as np\n",
    "\n",
    "def distance(lat_1,lon_1,lat_2,lon_2):\n",
    "#     lat1 = row.pickup_latitude\n",
    "#     lon1 = row.pickup_longitude\n",
    "#     lat2 = row.dropoff_latitude\n",
    "#     lon2 = row.dropoff_longitude\n",
    "    lon_1, lon_2, lat_1, lat_2 = map(np.radians, [lon_1, lon_2, lat_1, lat_2])  #Degrees to Radians\n",
    "    \n",
    "    \n",
    "    diff_lon = lon_2 - lon_1\n",
    "    diff_lat = lat_2 - lat_1\n",
    "    \n",
    "\n",
    "    km = 2 * 6371 * np.arcsin(np.sqrt(np.sin(diff_lat/2.0)**2 +  np.cos(lat_1) * np.cos(lat_2) * np.sin(diff_lon/2.0)**2))\n",
    "    \n",
    "    return km"
   ]
  },
  {
   "cell_type": "code",
   "execution_count": null,
   "id": "bdff12a4",
   "metadata": {},
   "outputs": [],
   "source": [
    "temp = distance(df['pickup_latitude'],df['pickup_longitude'],df['dropoff_latitude'],df['dropoff_longitude'])\n",
    "temp.head()"
   ]
  },
  {
   "cell_type": "code",
   "execution_count": null,
   "id": "d2e14771",
   "metadata": {},
   "outputs": [],
   "source": [
    "df_new = df.copy()\n",
    "df_new['Distance'] = temp\n",
    "df = df_new\n",
    "df.head()"
   ]
  },
  {
   "cell_type": "code",
   "execution_count": null,
   "id": "a65bf031",
   "metadata": {},
   "outputs": [],
   "source": [
    "sns.boxplot(data=df,x='Distance')"
   ]
  },
  {
   "cell_type": "code",
   "execution_count": 13,
   "id": "6622201a",
   "metadata": {},
   "outputs": [],
   "source": [
    "df = df[(df['Distance'] < 200) & (df['Distance'] > 0)]"
   ]
  },
  {
   "cell_type": "markdown",
   "id": "299533e9",
   "metadata": {},
   "source": [
    "### Date and Time features extract"
   ]
  },
  {
   "cell_type": "code",
   "execution_count": null,
   "id": "d9628b8d",
   "metadata": {},
   "outputs": [],
   "source": [
    "df['pickup_datetime'] = pd.to_datetime(df['pickup_datetime'])"
   ]
  },
  {
   "cell_type": "code",
   "execution_count": null,
   "id": "8cf04628",
   "metadata": {},
   "outputs": [],
   "source": [
    "df['week_day'] = df['pickup_datetime'].dt.day_name()\n",
    "df['Year'] = df['pickup_datetime'].dt.year\n",
    "df['Month'] = df['pickup_datetime'].dt.month\n",
    "df['Hour'] = df['pickup_datetime'].dt.hour"
   ]
  },
  {
   "cell_type": "code",
   "execution_count": null,
   "id": "14d5eeaf",
   "metadata": {},
   "outputs": [],
   "source": [
    "df.drop(columns=['pickup_datetime','pickup_latitude','pickup_longitude','dropoff_latitude','dropoff_longitude'],inplace=True)"
   ]
  },
  {
   "cell_type": "code",
   "execution_count": null,
   "id": "469e6b86",
   "metadata": {},
   "outputs": [],
   "source": [
    "df.head()"
   ]
  },
  {
   "cell_type": "code",
   "execution_count": null,
   "id": "4bf8f84b",
   "metadata": {},
   "outputs": [],
   "source": [
    "temp = df.copy()\n",
    "\n",
    "def convert_week_day(day):\n",
    "    if day in ['Monday','Tuesday','Wednesday','Thursday']:\n",
    "        return 0 # Weekday\n",
    "    return 1 # Weekend\n",
    "\n",
    "def convert_hour(hour):\n",
    "    if 5 <= hour <= 12:\n",
    "        return 1\n",
    "    elif 12 < hour <= 17:\n",
    "        return 2\n",
    "    elif 17 < hour < 24:\n",
    "        return 3\n",
    "    return 0\n",
    "\n",
    "df['week_day'] = temp['week_day'].apply(convert_week_day)\n",
    "df['Hour'] = temp['Hour'].apply(convert_hour)\n",
    "df.head()\n",
    "        "
   ]
  },
  {
   "cell_type": "markdown",
   "id": "e0770579",
   "metadata": {},
   "source": [
    "### Correlation Matrix"
   ]
  },
  {
   "cell_type": "code",
   "execution_count": null,
   "id": "e138dde7",
   "metadata": {},
   "outputs": [],
   "source": [
    "df.corr()"
   ]
  },
  {
   "cell_type": "code",
   "execution_count": null,
   "id": "647c3423",
   "metadata": {},
   "outputs": [],
   "source": [
    "sns.scatterplot(y=df['fare_amount'],x=df['Distance'])"
   ]
  },
  {
   "cell_type": "markdown",
   "id": "b1a24344",
   "metadata": {},
   "source": [
    "#### Independent Variable: Distance </br> Dependent Variable: fare_amount"
   ]
  },
  {
   "cell_type": "code",
   "execution_count": 21,
   "id": "59060339",
   "metadata": {},
   "outputs": [],
   "source": [
    "from sklearn.preprocessing import StandardScaler\n",
    "x = df[['Distance']].values\n",
    "y = df['fare_amount'].values.reshape(-1,1)"
   ]
  },
  {
   "cell_type": "code",
   "execution_count": 22,
   "id": "c39651d7",
   "metadata": {},
   "outputs": [],
   "source": [
    "from sklearn.model_selection import train_test_split\n",
    "x_train, x_test, y_train,y_test = train_test_split(x,y,random_state=10)"
   ]
  },
  {
   "cell_type": "code",
   "execution_count": 23,
   "id": "126c260e",
   "metadata": {},
   "outputs": [],
   "source": [
    "std_x = StandardScaler()\n",
    "x_train = std_x.fit_transform(x_train)"
   ]
  },
  {
   "cell_type": "code",
   "execution_count": 24,
   "id": "37387335",
   "metadata": {},
   "outputs": [],
   "source": [
    "x_test = std_x.transform(x_test)"
   ]
  },
  {
   "cell_type": "code",
   "execution_count": 25,
   "id": "7777dac9",
   "metadata": {},
   "outputs": [],
   "source": [
    "std_y = StandardScaler()\n",
    "y_train = std_y.fit_transform(y_train)"
   ]
  },
  {
   "cell_type": "code",
   "execution_count": 26,
   "id": "22030de2",
   "metadata": {},
   "outputs": [],
   "source": [
    "y_test = std_y.transform(y_test)"
   ]
  },
  {
   "cell_type": "code",
   "execution_count": 27,
   "id": "3688de95",
   "metadata": {},
   "outputs": [],
   "source": [
    "from sklearn.metrics import mean_squared_error,r2_score, mean_absolute_error\n",
    "def fit_predict(model):\n",
    "    model.fit(x_train,y_train.ravel())\n",
    "    y_pred = model.predict(x_test)\n",
    "    r_squared = r2_score(y_test,y_pred)\n",
    "    RMSE = mean_squared_error(y_test, y_pred,squared=False)\n",
    "    MAE = mean_absolute_error(y_test,y_pred)\n",
    "    print('R-squared: ', r_squared)\n",
    "    print('RMSE: ', RMSE)\n",
    "    print(\"MAE:  \",MAE)"
   ]
  },
  {
   "cell_type": "code",
   "execution_count": 28,
   "id": "5371f57d",
   "metadata": {},
   "outputs": [],
   "source": [
    "from sklearn.linear_model import LinearRegression"
   ]
  },
  {
   "cell_type": "code",
   "execution_count": null,
   "id": "99f34bf9",
   "metadata": {},
   "outputs": [],
   "source": [
    "fit_predict(LinearRegression())"
   ]
  },
  {
   "cell_type": "code",
   "execution_count": null,
   "id": "b5271561",
   "metadata": {},
   "outputs": [],
   "source": [
    "from sklearn.ensemble import RandomForestRegressor\n",
    "fit_predict(RandomForestRegressor())"
   ]
  },
  {
   "cell_type": "code",
   "execution_count": null,
   "id": "a5eb124e",
   "metadata": {},
   "outputs": [],
   "source": []
  }
 ],
 "metadata": {
  "kernelspec": {
   "display_name": "Python 3",
   "language": "python",
   "name": "python3"
  },
  "language_info": {
   "codemirror_mode": {
    "name": "ipython",
    "version": 3
   },
   "file_extension": ".py",
   "mimetype": "text/x-python",
   "name": "python",
   "nbconvert_exporter": "python",
   "pygments_lexer": "ipython3",
   "version": "3.10.11"
  }
 },
 "nbformat": 4,
 "nbformat_minor": 5
}
