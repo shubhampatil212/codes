{
 "cells": [
  {
   "cell_type": "code",
   "execution_count": null,
   "metadata": {
    "id": "xJqKiSwzznm3"
   },
   "outputs": [],
   "source": [
    "import pandas as pd\n",
    "import numpy as np"
   ]
  },
  {
   "cell_type": "code",
   "execution_count": null,
   "metadata": {
    "id": "MkwSIbfK2X77"
   },
   "outputs": [],
   "source": [
    "data = pd.read_csv('diabetes.csv')"
   ]
  },
  {
   "cell_type": "code",
   "execution_count": null,
   "metadata": {
    "colab": {
     "base_uri": "https://localhost:8080/",
     "height": 206
    },
    "id": "JKQeBJd22fgZ",
    "outputId": "b97625d9-c5e3-4d8b-e145-94a92de40546"
   },
   "outputs": [],
   "source": [
    "data.head()"
   ]
  },
  {
   "cell_type": "code",
   "execution_count": null,
   "metadata": {
    "colab": {
     "base_uri": "https://localhost:8080/",
     "height": 206
    },
    "id": "nkopa1eC2stR",
    "outputId": "802d8ae9-9581-4bfa-a6ba-3a6d4664983c"
   },
   "outputs": [],
   "source": [
    "data.tail()"
   ]
  },
  {
   "cell_type": "code",
   "execution_count": null,
   "metadata": {
    "colab": {
     "base_uri": "https://localhost:8080/"
    },
    "id": "SnSVIsZn2uCo",
    "outputId": "0898c62d-e684-4c2b-b5d0-e44b4f1a1a62"
   },
   "outputs": [],
   "source": [
    "data.shape"
   ]
  },
  {
   "cell_type": "code",
   "execution_count": null,
   "metadata": {
    "colab": {
     "base_uri": "https://localhost:8080/"
    },
    "id": "I4Nbda8o20k4",
    "outputId": "b120b18c-da91-46d7-cba7-8ecf32febaaf"
   },
   "outputs": [],
   "source": [
    "data.columns"
   ]
  },
  {
   "cell_type": "code",
   "execution_count": null,
   "metadata": {
    "colab": {
     "base_uri": "https://localhost:8080/",
     "height": 300
    },
    "id": "W6skQDBW23Q5",
    "outputId": "b2fde415-ce4b-4ba0-9865-184d8b4b552b"
   },
   "outputs": [],
   "source": [
    "data.describe()"
   ]
  },
  {
   "cell_type": "code",
   "execution_count": null,
   "metadata": {
    "id": "2dmkCwsHBY8Z"
   },
   "outputs": [],
   "source": [
    "data.replace(to_replace = 0, value = data['Glucose'].mean(), inplace=True)\n",
    "data.replace(to_replace = 0, value = data['BloodPressure'].mean(), inplace=True)\n",
    "data.replace(to_replace = 0, value = data['SkinThickness'].mean(), inplace=True)\n",
    "data.replace(to_replace = 0, value = data['Insulin'].mean(), inplace=True)\n",
    "data.replace(to_replace = 0, value = data['BMI'].mean(), inplace=True)"
   ]
  },
  {
   "cell_type": "code",
   "execution_count": null,
   "metadata": {
    "colab": {
     "base_uri": "https://localhost:8080/",
     "height": 300
    },
    "id": "m6jNgmFdBYzI",
    "outputId": "2586c422-d058-4439-a740-0d75b402aa54"
   },
   "outputs": [],
   "source": [
    "data.describe()"
   ]
  },
  {
   "cell_type": "code",
   "execution_count": null,
   "metadata": {
    "colab": {
     "base_uri": "https://localhost:8080/"
    },
    "id": "icp4a6MB3Bpp",
    "outputId": "971e5516-2267-41e6-e962-021bbf3d8361"
   },
   "outputs": [],
   "source": [
    "data.info()"
   ]
  },
  {
   "cell_type": "code",
   "execution_count": null,
   "metadata": {
    "colab": {
     "base_uri": "https://localhost:8080/"
    },
    "id": "hbCMKkSB3pOG",
    "outputId": "cb39f432-21f6-4b63-f042-e83e3fdd4486"
   },
   "outputs": [],
   "source": [
    "data.isnull().sum()"
   ]
  },
  {
   "cell_type": "markdown",
   "metadata": {
    "id": "zIp-bxRN33_v"
   },
   "source": [
    "Hence, here we do not have any NULL values."
   ]
  },
  {
   "cell_type": "markdown",
   "metadata": {
    "id": "823wmTQM4Q49"
   },
   "source": [
    "VISUALIZATION"
   ]
  },
  {
   "cell_type": "code",
   "execution_count": null,
   "metadata": {
    "id": "9_4AxZgJ31yO"
   },
   "outputs": [],
   "source": [
    "import matplotlib.pyplot as plt\n",
    "import seaborn as sns"
   ]
  },
  {
   "cell_type": "code",
   "execution_count": null,
   "metadata": {
    "colab": {
     "base_uri": "https://localhost:8080/",
     "height": 296
    },
    "id": "Xh3i430w4bnG",
    "outputId": "0b52a1dc-0816-4f2d-d387-a8d06906288d"
   },
   "outputs": [],
   "source": [
    "sns.countplot(x = data[\"Outcome\"])"
   ]
  },
  {
   "cell_type": "code",
   "execution_count": null,
   "metadata": {
    "colab": {
     "base_uri": "https://localhost:8080/",
     "height": 296
    },
    "id": "j_mBc0GN50F7",
    "outputId": "bc4532b7-0260-485c-92ad-1f8ef0cf4e30"
   },
   "outputs": [],
   "source": [
    "sns.boxplot(data = data, x = 'Pregnancies')"
   ]
  },
  {
   "cell_type": "code",
   "execution_count": null,
   "metadata": {
    "colab": {
     "base_uri": "https://localhost:8080/",
     "height": 296
    },
    "id": "cy7j0xxP6dmb",
    "outputId": "00370b99-175a-4b7f-e167-1583ea79bad0"
   },
   "outputs": [],
   "source": [
    "sns.boxplot(data = data, x = 'Glucose')"
   ]
  },
  {
   "cell_type": "code",
   "execution_count": null,
   "metadata": {
    "colab": {
     "base_uri": "https://localhost:8080/",
     "height": 296
    },
    "id": "gusPyVdb7L1l",
    "outputId": "197a3a40-9375-4a32-da1a-87e3709a4fc6"
   },
   "outputs": [],
   "source": [
    "sns.boxplot(data = data, x = 'BloodPressure')"
   ]
  },
  {
   "cell_type": "code",
   "execution_count": null,
   "metadata": {
    "colab": {
     "base_uri": "https://localhost:8080/",
     "height": 296
    },
    "id": "cltIeI9t7Nyo",
    "outputId": "f61af0e0-5004-4755-9be6-e5af10ec0c34"
   },
   "outputs": [],
   "source": [
    "sns.boxplot(data = data, x = 'SkinThickness')"
   ]
  },
  {
   "cell_type": "code",
   "execution_count": null,
   "metadata": {
    "colab": {
     "base_uri": "https://localhost:8080/",
     "height": 332
    },
    "id": "UBVxWD9P7Oxf",
    "outputId": "95e46571-887e-4fbb-8514-b9ce54240ae7"
   },
   "outputs": [],
   "source": [
    "data.corr()"
   ]
  },
  {
   "cell_type": "markdown",
   "metadata": {
    "id": "9DkXREGF7shT"
   },
   "source": [
    "Seprating features and outcomes"
   ]
  },
  {
   "cell_type": "code",
   "execution_count": null,
   "metadata": {
    "colab": {
     "base_uri": "https://localhost:8080/"
    },
    "id": "Yc3LdEEv7TdX",
    "outputId": "9bacf17b-dfc7-4a9e-e50f-0b458c12bfaf"
   },
   "outputs": [],
   "source": [
    "X = data.iloc[:,0:8]\n",
    "X.shape"
   ]
  },
  {
   "cell_type": "code",
   "execution_count": null,
   "metadata": {
    "colab": {
     "base_uri": "https://localhost:8080/"
    },
    "id": "crIX40tK7cK4",
    "outputId": "e90cbe7d-d61a-4a23-8358-0a8cd35c072c"
   },
   "outputs": [],
   "source": [
    "Y = data.iloc[:, -1]\n",
    "Y.shape"
   ]
  },
  {
   "cell_type": "markdown",
   "metadata": {
    "id": "EC0eCWZ47p4L"
   },
   "source": [
    "Spliting the dataset"
   ]
  },
  {
   "cell_type": "code",
   "execution_count": null,
   "metadata": {
    "id": "SYrIc5ki7ikB"
   },
   "outputs": [],
   "source": [
    "from sklearn.model_selection import train_test_split\n",
    "X_train, X_test, y_train, y_test = train_test_split(X, Y, test_size=0.20, random_state=42)"
   ]
  },
  {
   "cell_type": "code",
   "execution_count": null,
   "metadata": {
    "colab": {
     "base_uri": "https://localhost:8080/"
    },
    "id": "bCi1q6k48F1J",
    "outputId": "11ec8091-2d06-402a-ec1b-c541bc8381e3"
   },
   "outputs": [],
   "source": [
    "print(\"The shapes of the test and train dataset are:\")\n",
    "print(X_train.shape, X_test.shape, y_train.shape, y_test.shape)"
   ]
  },
  {
   "cell_type": "code",
   "execution_count": null,
   "metadata": {
    "colab": {
     "base_uri": "https://localhost:8080/"
    },
    "id": "UhrLg8hL8Neu",
    "outputId": "cbdd9f27-23c5-408b-adae-998ce082e8fc"
   },
   "outputs": [],
   "source": [
    "from sklearn.neighbors import KNeighborsClassifier\n",
    "\n",
    "model = KNeighborsClassifier(n_neighbors=2)\n",
    "model.fit(X_train, y_train)"
   ]
  },
  {
   "cell_type": "code",
   "execution_count": null,
   "metadata": {
    "colab": {
     "base_uri": "https://localhost:8080/"
    },
    "id": "0L62OUij8X2W",
    "outputId": "b208d0e0-cc75-415b-c7d0-cd12ed939d01"
   },
   "outputs": [],
   "source": [
    "model.score(X_test, y_test)"
   ]
  },
  {
   "cell_type": "code",
   "execution_count": null,
   "metadata": {
    "id": "3S5e0KJL9K8v"
   },
   "outputs": [],
   "source": [
    "y_pred = model.predict(X_test)"
   ]
  },
  {
   "cell_type": "code",
   "execution_count": null,
   "metadata": {
    "id": "2jWz6mFu8hqJ"
   },
   "outputs": [],
   "source": [
    "from sklearn.metrics import classification_report, confusion_matrix, ConfusionMatrixDisplay, precision_score, recall_score, accuracy_score"
   ]
  },
  {
   "cell_type": "code",
   "execution_count": null,
   "metadata": {
    "colab": {
     "base_uri": "https://localhost:8080/"
    },
    "id": "yXUN2j9L93oa",
    "outputId": "d3aee1cd-0d6f-4e3a-aad3-95d075ab6a3e"
   },
   "outputs": [],
   "source": [
    "print(\"Confusion Matrix: \")\n",
    "cm = confusion_matrix(y_test, y_pred)\n",
    "cm"
   ]
  },
  {
   "cell_type": "code",
   "execution_count": null,
   "metadata": {
    "colab": {
     "base_uri": "https://localhost:8080/",
     "height": 279
    },
    "id": "bENJZkKy-Ek-",
    "outputId": "6d3a79b9-9cdf-45d1-f12e-59f5db3d336c"
   },
   "outputs": [],
   "source": [
    "mat = ConfusionMatrixDisplay(confusion_matrix = cm)\n",
    "mat.plot()\n",
    "plt.show()"
   ]
  },
  {
   "cell_type": "code",
   "execution_count": null,
   "metadata": {
    "colab": {
     "base_uri": "https://localhost:8080/"
    },
    "id": "YEO3kwLm--Kp",
    "outputId": "203833ff-e45c-4207-f4ae-bfc225749858"
   },
   "outputs": [],
   "source": [
    "print(\"Accuracy: \")\n",
    "accuracy_score(y_test, y_pred)"
   ]
  },
  {
   "cell_type": "code",
   "execution_count": null,
   "metadata": {
    "colab": {
     "base_uri": "https://localhost:8080/"
    },
    "id": "81WzDqoa-_WT",
    "outputId": "2cbea79c-6d2e-45c8-d194-2c7d4cf6507b"
   },
   "outputs": [],
   "source": [
    "print(\"Precision: \")\n",
    "precision_score(y_test, y_pred)"
   ]
  },
  {
   "cell_type": "code",
   "execution_count": null,
   "metadata": {
    "colab": {
     "base_uri": "https://localhost:8080/"
    },
    "id": "Lo6o3TP0_DWz",
    "outputId": "f6d583a5-cafa-4a37-f632-50ceacc01627"
   },
   "outputs": [],
   "source": [
    "print(\"Recall: \")\n",
    "recall_score(y_test, y_pred)"
   ]
  },
  {
   "cell_type": "code",
   "execution_count": null,
   "metadata": {
    "colab": {
     "base_uri": "https://localhost:8080/"
    },
    "id": "96FJvso09xON",
    "outputId": "f6ae8ebe-2050-40fc-890b-aa1704791b28"
   },
   "outputs": [],
   "source": [
    "print(\"Error: \")\n",
    "1-accuracy_score(y_test, y_pred)"
   ]
  },
  {
   "cell_type": "code",
   "execution_count": null,
   "metadata": {
    "colab": {
     "base_uri": "https://localhost:8080/"
    },
    "id": "r53Tg4Uk9xGj",
    "outputId": "5bf5c163-6664-46d7-eeda-e583775d4c54"
   },
   "outputs": [],
   "source": [
    "print(classification_report(y_test, y_pred))"
   ]
  }
 ],
 "metadata": {
  "colab": {
   "collapsed_sections": [],
   "provenance": []
  },
  "kernelspec": {
   "display_name": "Python 3.8.3 ('base')",
   "language": "python",
   "name": "python3"
  },
  "language_info": {
   "codemirror_mode": {
    "name": "ipython",
    "version": 3
   },
   "file_extension": ".py",
   "mimetype": "text/x-python",
   "name": "python",
   "nbconvert_exporter": "python",
   "pygments_lexer": "ipython3",
   "version": "3.8.3"
  },
  "vscode": {
   "interpreter": {
    "hash": "ad2bdc8ecc057115af97d19610ffacc2b4e99fae6737bb82f5d7fb13d2f2c186"
   }
  }
 },
 "nbformat": 4,
 "nbformat_minor": 1
}
